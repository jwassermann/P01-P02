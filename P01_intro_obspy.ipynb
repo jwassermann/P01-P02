{
 "cells": [
  {
   "cell_type": "markdown",
   "metadata": {
    "collapsed": true
   },
   "source": [
    "<div style=\"background-color:#009440; padding: 0px; background-size:cover; background-opacity:50%; border-radius:5px; height:300px\">\n",
    "    <div style=\"margin: 5px; padding: 10px;\">\n",
    "    <h1 style=\"color:#00000\">Geophysical Data Acquisition and Analysis</h1>\n",
    "    <h5 style=\"color:#C0C0C0\">LMU, August 2019</h5>\n",
    "    <h4 style=\"color:rgba(0,0,0,0.6)\">notebook by Lion Krischer, Tobias Megies, Stefanie Donner, Céline Hadziioannou, Ceri Nunn</h4>\n",
    "    </div>\n",
    "    <div style=\"float:right; margin: 20px; padding: 20px; background:rgba(255,255,255,0.7); width: 70%; height: 100px\">\n",
    "        <div style=\"position:relative; top:40%; transform: translateY(-50%)\">\n",
    "        <div style=\"font-size: x-large; font-weight:900; color:rgba(0,0,0,0.8); line-height:100%\">P01 - Python and ObsPy Introduction</div>\n",
    "        </div>\n",
    "    </div>\n",
    "</div>"
   ]
  },
  {
   "cell_type": "markdown",
   "metadata": {},
   "source": [
    "Again, please execute the following cell, it contains a few adjustments to the notebook."
   ]
  },
  {
   "cell_type": "code",
   "execution_count": null,
   "metadata": {},
   "outputs": [],
   "source": [
    "%matplotlib inline\n",
    "import matplotlib.pyplot as plt\n",
    "plt.style.use('ggplot')\n",
    "plt.rcParams['figure.figsize'] = 12, 8"
   ]
  },
  {
   "cell_type": "markdown",
   "metadata": {},
   "source": [
    " # B) ObsPy Introduction\n",
    "\n",
    "In this *very* short introduction to ObsPy we will see how we can start from scratch to acquire time series data (aka waveforms) of the ground shaking resulting from earthquakes, recorded at seismometer stations. Many global seismometer recordings are free to be downloaded by everybody. We will also see how these data can be handled in Python using the ObsPy framework.\n",
    "\n",
    "We will:\n",
    " * a) fetch information on earthquakes (aka events) hosted by international data centers\n",
    " * b) fetch information on seismometer stations that recorded a particular earthquake\n",
    " * c) fetch waveform data of the earthquake waves recorded at that station\n",
    " * d) convert the raw recorded data to physical units (aka instrument correction)\n",
    " \n",
    "### a) Event Metadata\n",
    "\n",
    " * several different protocols are implemented in ObsPy to connect to all important seismological data centers\n",
    " * the most important protocol are [FDSN web services](http://docs.obspy.org/packages/obspy.clients.fdsn.html#module-obspy.clients.fdsn) (other protocols work very similar)\n",
    " * the \"[`get_events()`](http://docs.obspy.org/packages/autogen/obspy.clients.fdsn.client.Client.get_events.html)\" method has many ways to restrict the search results (time, geographic, magnitude, ..)"
   ]
  },
  {
   "cell_type": "code",
   "execution_count": null,
   "metadata": {},
   "outputs": [],
   "source": [
    "from obspy.clients.fdsn import Client\n",
    "\n",
    "# IRIS is the biggest seismological data center, based in the US\n",
    "client_iris = Client(\"IRIS\")\n",
    "\n",
    "catalog = client_iris.get_events(minmagnitude=8.5, starttime=\"2010-01-01\")\n",
    "\n",
    "print(catalog)\n",
    "catalog.plot();"
   ]
  },
  {
   "cell_type": "markdown",
   "metadata": {},
   "source": [
    "- event/earthquake metadata is bundled in a **`Catalog`** object, which is a collection (~list) of **`Event`** objects\n",
    "- `Event` objects are again collections of other resources (origins, magnitudes, picks, ...)\n",
    "- the nested ObsPy Event class structure (Catalog/Event/Origin/Magnitude/FocalMechanism/...) is closely modelled after [QuakeML](https://quake.ethz.ch/quakeml) (the international standard exchange format for event metadata)\n",
    "<img src=\"images/Event.svg\" width=100%>\n",
    "<img src=\"images/quakeml_light.png\" width=100%>"
   ]
  },
  {
   "cell_type": "code",
   "execution_count": null,
   "metadata": {},
   "outputs": [],
   "source": [
    "print(catalog)"
   ]
  },
  {
   "cell_type": "code",
   "execution_count": null,
   "metadata": {},
   "outputs": [],
   "source": [
    "event = catalog[1]\n",
    "print(event)\n",
    "event.magnitudes"
   ]
  },
  {
   "cell_type": "code",
   "execution_count": null,
   "metadata": {},
   "outputs": [],
   "source": [
    "t = event.origins[0].time\n",
    "print(t)"
   ]
  },
  {
   "cell_type": "code",
   "execution_count": null,
   "metadata": {},
   "outputs": [],
   "source": [
    "# you can use Tab-Completion to see what attributes/methods the event object has:\n",
    "#event."
   ]
  },
  {
   "cell_type": "markdown",
   "metadata": {},
   "source": [
    "### b) Station Metadata\n",
    "\n",
    " * again, several different protocols are implemented in ObsPy to connect to all important seismological data centers\n",
    " * the most important protocol are [FDSN web services](http://docs.obspy.org/packages/obspy.clients.fdsn.html#module-obspy.clients.fdsn) (other protocols work very similar)\n",
    " * the \"[`get_stations()`](http://docs.obspy.org/packages/autogen/obspy.clients.fdsn.client.Client.get_stations.html)\" method has many ways to restrict the search results (time, geographic, magnitude, ..)"
   ]
  },
  {
   "cell_type": "code",
   "execution_count": null,
   "metadata": {},
   "outputs": [],
   "source": [
    "# BGR in Hanover is bundling data from the German Regional Seismic Network (GRSN)\n",
    "client_bgr = Client(\"BGR\")\n",
    "\n",
    "muc_longitude = 11.58\n",
    "muc_latitude = 48.13\n",
    "\n",
    "inventory = client_bgr.get_stations(\n",
    "    starttime=t, endtime=t+10,\n",
    "    longitude=muc_longitude, latitude=muc_latitude, maxradius=2,\n",
    "    channel=\"BHZ\")\n",
    "\n",
    "print(inventory)\n",
    "inventory.plot(projection=\"local\");\n",
    "# If this produces an error (\"ValueError: could not convert string to float: '#b15928'\"),\n",
    "# you probably encountered a known problem with ObsPy 1.1.0 and Matplotlib >=2.2\n",
    "# you can get around it by downgrading matplotlib, e.g.: conda install \"matplotlib<2.2\""
   ]
  },
  {
   "cell_type": "markdown",
   "metadata": {},
   "source": [
    "- station metadata is bundled in an **`Inventory`** object, which is a collection (~list) of **`Network`** objects, ...\n",
    "- the nested ObsPy Inventory class structure (Inventory/Network/Station/Channel/Response/...) is closely modelled after [FDSN StationXML](http://www.fdsn.org/xml/station/) (the international standard exchange format for station metadata)\n",
    "- `Network` objects are again collections of `Station` objects, which are collections of `Channel` objects\n",
    "\n",
    "<img src=\"images/Inventory.svg\" width=100%>\n",
    "<img src=\"images/stationxml_light.png\" width=100%>"
   ]
  },
  {
   "cell_type": "code",
   "execution_count": null,
   "metadata": {},
   "outputs": [],
   "source": [
    "# let's request metadata for one particular station,\n",
    "# GRSN station \"FUR\" at the Geophysical Observatory in Fuerstenfeldbruck\n",
    "inventory = client_bgr.get_stations(network=\"GR\", station=\"FUR\", level=\"response\")\n",
    "# when searching for many available stations response information is not included by default,\n",
    "# because of the huge size. we explicitly need to specify that we want response information included\n",
    "print(inventory)"
   ]
  },
  {
   "cell_type": "code",
   "execution_count": null,
   "metadata": {},
   "outputs": [],
   "source": [
    "network = inventory[0]\n",
    "print(network)"
   ]
  },
  {
   "cell_type": "code",
   "execution_count": null,
   "metadata": {},
   "outputs": [],
   "source": [
    "station = network[0]\n",
    "print(station)"
   ]
  },
  {
   "cell_type": "code",
   "execution_count": null,
   "metadata": {},
   "outputs": [],
   "source": [
    "channel = station[0]\n",
    "print(channel)\n",
    "print(channel.response)"
   ]
  },
  {
   "cell_type": "code",
   "execution_count": null,
   "metadata": {},
   "outputs": [],
   "source": [
    "# you can use Tab-Completion to see what attributes/methods the inventory object has:\n",
    "#inventory.\n",
    "inventory.sender\n",
    "channel.response"
   ]
  },
  {
   "cell_type": "markdown",
   "metadata": {},
   "source": [
    "### c) Waveform Data (seismometer time series)\n",
    "\n",
    " * again, several different protocols are implemented in ObsPy to connect to all important seismological data centers\n",
    " * also, local files in all important exchange formats can be read\n",
    " * the most important protocol are [FDSN web services](http://docs.obspy.org/packages/obspy.clients.fdsn.html#module-obspy.clients.fdsn) (other protocols work similar)\n",
    " * the \"[`get_waveforms()`](http://docs.obspy.org/packages/autogen/obspy.clients.fdsn.client.Client.get_waveforms.html)\" method needs the unique identification of the station (network, station, location and channel codes) and a time range (start time, end time) of requested data"
   ]
  },
  {
   "cell_type": "code",
   "execution_count": null,
   "metadata": {},
   "outputs": [],
   "source": [
    "stream = client_bgr.get_waveforms(network=\"GR\", station=\"FUR\",\n",
    "                                  location=\"*\", channel=\"BH*\",\n",
    "                                  starttime=t+10*60, endtime=t+70*60)\n",
    "# for functions/methods that need a fixed set of parameters,\n",
    "# we usually omit the parameter names and specify them in the expected order\n",
    "# Note that new timestamp objects can be created by\n",
    "# adding/subtracting seconds to/from an existing timestamp object.\n",
    "# (for details search the ObsPy documentation pages for \"UTCDateTime\")\n",
    "#stream = client_bgr.get_waveforms(\"GR\", \"FUR\", \"*\", \"BH*\", t+10*60, t+70*60)\n",
    "print(stream)\n",
    "stream.plot()"
   ]
  },
  {
   "cell_type": "markdown",
   "metadata": {},
   "source": [
    "the nested ObsPy Inventory class structure (Inventory/Station/Channel/Response/...) is closely modelled after [FDSN StationXML](http://www.fdsn.org/xml/station/) (the international standard exchange format for station metadata)\n",
    "\n",
    "- waveform data is bundled in a **`Stream`** object, which is a collection (~list) of **`Trace`** objects\n",
    "- **`Trace`** objects consist of one single, contiguous waveform data block (i.e. regularly spaced time series, no gaps)\n",
    "- **`Trace`** objects consist of two attributes:\n",
    "  - **`trace.data`** (the raw time series as an [**`numpy.ndarray`**](http://docs.scipy.org/doc/numpy/reference/generated/numpy.ndarray.html)) and..\n",
    "  - **`trace.stats`** (metainformation needed to interpret the raw sample data)\n",
    "\n",
    "<img src=\"images/Stream_Trace.svg\" width=90%>"
   ]
  },
  {
   "cell_type": "code",
   "execution_count": null,
   "metadata": {},
   "outputs": [],
   "source": [
    "trace = stream[0]\n",
    "# trace.data is the numpy array with the raw samples\n",
    "print(trace.data)\n",
    "print(trace.data[20:30])\n",
    "# arithmetic operations on the data\n",
    "print(trace.data[20:30] / 223.5)\n",
    "# using attached numpy methods\n",
    "print(trace.data.mean())\n",
    "# pointers to the array in memory can be passed to C/Fortran routines from inside Python!"
   ]
  },
  {
   "cell_type": "code",
   "execution_count": null,
   "metadata": {},
   "outputs": [],
   "source": [
    "# trace.stats contains the basic metadata identifying the trace\n",
    "print(trace)\n",
    "print(trace.stats)\n",
    "print(trace.stats.sampling_rate)"
   ]
  },
  {
   "cell_type": "code",
   "execution_count": null,
   "metadata": {},
   "outputs": [],
   "source": [
    "# many convenience routines are attahed to Stream/Trace, use Tab completion\n",
    "#stream."
   ]
  },
  {
   "cell_type": "markdown",
   "metadata": {},
   "source": [
    "### d) Converting raw seismometer recordings to physical units (aka instrument correction)\n",
    "\n",
    " * for this we need to combine the raw waveform data of the recording system (seismometer, digitizer) with the metadata on its amplitude and phase response (the instrument response)\n",
    " * these information are kept separate for various practical and technical reasons (space in storage and streaming, correcting of errors made in the metadata, ...)"
   ]
  },
  {
   "cell_type": "code",
   "execution_count": null,
   "metadata": {},
   "outputs": [],
   "source": [
    "# first, let's have a look at this channel's instrument response\n",
    "channel.plot(min_freq=1e-4);"
   ]
  },
  {
   "cell_type": "code",
   "execution_count": null,
   "metadata": {},
   "outputs": [],
   "source": [
    "# we already have fetched the station metadata,\n",
    "# including every piece of information down to the instrument response\n",
    "\n",
    "# and convert the data to ground velocity in m/s,\n",
    "# taking into account the specifics of the recording system\n",
    "stream.remove_response(inventory=inventory, water_level=10, output=\"VEL\")\n",
    "stream.plot()"
   ]
  },
  {
   "cell_type": "markdown",
   "metadata": {},
   "source": [
    "### ObsPy has much more functionality, check it out on the ObsPy documentation pages at http://docs.obspy.org.\n",
    "\n",
    " * many, many convenience routines attached to `Stream`/`Trace`, `Catalog`/`Event`/.., `Inventory`/... for easy manipulation\n",
    " * filtering, detrending, demeaning, rotating, resampling, ...\n",
    " * array analysis, cross correlation routines, event detection, ...\n",
    " * estimate travel times and [plot ray paths](http://docs.obspy.org/tutorial/code_snippets/travel_time.html#body-wave-ray-paths) of seismic phases for specified source/receiver combinations\n",
    " * ...\n",
    " \n",
    " <img src=\"images/taup.png\" width=80%>\n",
    " \n",
    " ---"
   ]
  },
  {
   "cell_type": "markdown",
   "metadata": {},
   "source": [
    "## Exercise\n",
    "\n",
    "Problems? Questions?\n",
    "\n",
    " - [ObsPy Documentation](http://docs.obspy.org/) (use the search)\n",
    " - Use IPython tab completion\n",
    " - Use interactive IPython help (e.g. after import type: `read_events?`)\n",
    " - **Ask!**\n",
    " \n",
    "a) Read the event metadata from local file \"`./data/events_unterhaching.xml`\" using the [`read_events(filename)`](http://docs.obspy.org/packages/autogen/obspy.core.event.read_events.html#obspy.core.event.read_events) function. Print the catalog summary."
   ]
  },
  {
   "cell_type": "code",
   "execution_count": null,
   "metadata": {},
   "outputs": [],
   "source": []
  },
  {
   "cell_type": "markdown",
   "metadata": {},
   "source": [
    "b) Take one event out of the catalog. Print its summary. You can see there is information included on picks set for the event. Print the information of at least one pick that is included in the event metadata. We now know one station that recorded the event."
   ]
  },
  {
   "cell_type": "code",
   "execution_count": null,
   "metadata": {},
   "outputs": [],
   "source": []
  },
  {
   "cell_type": "markdown",
   "metadata": {},
   "source": [
    "c) Save the origin time of the event in a new variable. Download waveform data for the station around the time of the event (e.g. 5 seconds before and 10 seconds after), connecting to the FDSN server at the observatory at \"`http://erde.geophysik.uni-muenchen.de`\". Put a \"`*`\" wildcard as the third (and last) letter of the channel code to download all three components (vertical, north, east). Plot the waveform data."
   ]
  },
  {
   "cell_type": "code",
   "execution_count": null,
   "metadata": {},
   "outputs": [],
   "source": []
  },
  {
   "cell_type": "markdown",
   "metadata": {},
   "source": [
    "d) Download station metadata for this station including the instrument response information (using the same client). Use the response information to remove the instrument response from the waveforms. Plot the waveforms again (now in ground velocity in m/s)."
   ]
  },
  {
   "cell_type": "code",
   "execution_count": null,
   "metadata": {},
   "outputs": [],
   "source": []
  },
  {
   "cell_type": "code",
   "execution_count": null,
   "metadata": {},
   "outputs": [],
   "source": []
  },
  {
   "cell_type": "markdown",
   "metadata": {},
   "source": [
    "e) The peak ground velocity (PGV) is an important measure to judge possible effects on buildings. Determine the maximum value (absolute, whether positive or negative!) of either of the two horizontal components' data arrays (\"N\", \"E\"). You can use Python's builtin \"`max()`\" and \"`abs()`\" functions. For your information, ground shaking (in the frequency ranges of these very close earthquakes) can become perceptible to humans at above 0.5-1 mm/s, damage to buildings can be safely excluded for PGV values not exceeding 3 mm/s."
   ]
  },
  {
   "cell_type": "code",
   "execution_count": null,
   "metadata": {},
   "outputs": [],
   "source": []
  },
  {
   "cell_type": "code",
   "execution_count": null,
   "metadata": {},
   "outputs": [],
   "source": []
  }
 ],
 "metadata": {
  "kernelspec": {
   "display_name": "Python 3",
   "language": "python",
   "name": "python3"
  },
  "language_info": {
   "codemirror_mode": {
    "name": "ipython",
    "version": 3
   },
   "file_extension": ".py",
   "mimetype": "text/x-python",
   "name": "python",
   "nbconvert_exporter": "python",
   "pygments_lexer": "ipython3",
   "version": "3.6.3"
  }
 },
 "nbformat": 4,
 "nbformat_minor": 1
}
