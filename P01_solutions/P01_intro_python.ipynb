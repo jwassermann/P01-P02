{
 "cells": [
  {
   "cell_type": "markdown",
   "metadata": {
    "collapsed": true
   },
   "source": [
    "<div style=\"background-color:#009440; padding: 0px; background-size:cover; background-opacity:50%; border-radius:5px; height:300px\">\n",
    "    <div style=\"margin: 5px; padding: 10px;\">\n",
    "    <h1 style=\"color:#00000\">Geophysical Data Acquisition and Analysis</h1>\n",
    "    <h5 style=\"color:#C0C0C0\">LMU, August 2019</h5>\n",
    "    <h4 style=\"color:rgba(0,0,0,0.6)\">notebook by Lion Krischer, Tobias Megies, Stefanie Donner, Céline Hadziioannou, Ceri Nunn</h4>\n",
    "    </div>\n",
    "    <div style=\"float:right; margin: 20px; padding: 20px; background:rgba(255,255,255,0.7); width: 70%; height: 100px\">\n",
    "        <div style=\"position:relative; top:40%; transform: translateY(-50%)\">\n",
    "        <div style=\"font-size: x-large; font-weight:900; color:rgba(0,0,0,0.8); line-height:100%\">P01 - Python and ObsPy Introduction</div>\n",
    "        </div>\n",
    "    </div>\n",
    "</div>"
   ]
  },
  {
   "cell_type": "markdown",
   "metadata": {},
   "source": [
    "## Why Python?\n",
    "\n",
    "`'Why should we go through programming basics, I thought this was the GDA class?'`\n",
    "\n",
    " * there is a 99% chance that you will need a computer for data analysis..\n",
    " \n",
    "`'Hmm.. OK, but why Python specifically?'`\n",
    "\n",
    " * [Python](http://www.python.org) is a very powerful general purpose programming language\n",
    " * Python was designed to be easy to learn, with concise and very readable syntax \n",
    " * Python is free and opens source\n",
    " * Python is platform independent with no need to compile program code\n",
    " * Python installation is very convenient nowadays (also, great packaging architecture by Anaconda project)\n",
    " * Python has a huge scientific community\n",
    "\n",
    "## How to Use Python\n",
    "\n",
    "There are different ways to use Python..\n",
    " * write a `my_program.py` Python file (e.g. using a text editor of choice), run the file with `$ python my_program.py`\n",
    "   * easy to give the file to somebody else, basic human readable text file\n",
    " * use the interactive IPython shell (call via `$ ipython`)\n",
    "   * code can be executed line-by-line, results immediately visible\n",
    "   * quick interactive playing around / prototyping (tab completion etc.)\n",
    " * in browser using the IPython/Jupyter notebook\n",
    "   * code can be nicely mixed with images, formulas, text, exercise instructions.. good for teaching!\n",
    "   * current state of variables can be a bit confusing sometimes"
   ]
  },
  {
   "cell_type": "markdown",
   "metadata": {},
   "source": [
    "## Useful Links\n",
    "\n",
    "Here is collection of resources to introduce you the scientific Python ecosystem. They cover a number of different packages and topics; way more than we will manage today.\n",
    "\n",
    "If you have any question regarding some specific Python functionality you can consult the official [Python documenation](http://docs.python.org/).\n",
    " \n",
    "Furthermore a large number of Python tutorials, introduction, and books are available online. Here are some examples for those interested in learning more.\n",
    " \n",
    "* [Learn Python The Hard Way](http://learnpythonthehardway.org/book/)\n",
    "* [Dive Into Python](http://www.diveintopython.net/)\n",
    "* [The Official Python Tutorial](http://docs.python.org/2/tutorial/index.html)\n",
    "* [Think Python Book](http://www.greenteapress.com/thinkpython/thinkpython.html)\n",
    " \n",
    "Some people might be used to Matlab - this helps:\n",
    " \n",
    "* [NumPy for Matlab Users Introdution](http://wiki.scipy.org/NumPy_for_Matlab_Users)\n",
    "* [NumPy for Matlab Users Cheatsheet](http://mathesaurus.sourceforge.net/matlab-numpy.html)\n",
    " \n",
    " \n",
    "Additionally there is an abundance of resources introducing and teaching parts of the scientific Python ecosystem.\n",
    " \n",
    "* [NumPy Tutorial](http://wiki.scipy.org/Tentative_NumPy_Tutorial)\n",
    "* [Python Scientific Lecture Notes](http://scipy-lectures.github.io/): Introduces the basics of scientific Python with lots of examples.\n",
    "* [Python for Signal Processing](http://python-for-signal-processing.blogspot.de/): Free blog which is the basis of a proper book written on the subject.\n",
    "* [Another NumPy Tutorial](http://www.loria.fr/~rougier/teaching/numpy/numpy.html), [Matplotlib Tutorial](http://www.loria.fr/~rougier/teaching/matplotlib/matplotlib.html)\n",
    " \n",
    "If you need to create a plot in Python/ObsPy, the quickest way to success is to start from some example that is similar to what you want to achieve. These websites are good starting points:\n",
    " \n",
    "* [Matplotlib Gallery](http://matplotlib.org/gallery.html)\n",
    "* [ObsPy Gallery](http://docs.obspy.org/gallery.html)\n",
    "* [Basemap Gallery](http://matplotlib.org/basemap/users/examples.html)\n"
   ]
  },
  {
   "cell_type": "markdown",
   "metadata": {},
   "source": [
    "## The Jupyter Notebook (formerly called IPython Notebook)\n",
    "\n",
    "The [Jupyter notebook](http://www.nature.com/news/interactive-notebooks-sharing-the-code-1.16261) is a good way to combine text/formulas/images/diagrams with executable Python code cells, making it ideal for teaching Python tutorials.\n",
    "\n",
    "#### Quick Toolbar Reference\n",
    "\n",
    "\n",
    "<img src=\"images/notebook_toolbar.png\" style=\"width:70%\"></img>\n",
    "\n",
    "* `Shift + Enter`: Execute cell and jump to the next cell\n",
    "* `Ctrl + Enter`: Execute cell and don't jump to the next cell\n",
    "* If code execution is not responding anymore: *Restart kernel* (cache of previously assigned variables gets emptied!)\n",
    "\n",
    "\n",
    "#### First things first \n",
    "\n",
    "You will find these four lines in every notebook. **Always execute them!** They do three things:\n",
    "* Make plots appear in the browser (otherwise a window pops up)\n",
    "* Printing things works like this: \n",
    "\n",
    "```python\n",
    "print(\"Hello\")\n",
    "```\n",
    "\n",
    "* Plots look quite a bit nicer (this is optional).\n",
    "\n",
    "This essentially makes the notebooks work under Python 2 and Python 3."
   ]
  },
  {
   "cell_type": "code",
   "execution_count": null,
   "metadata": {},
   "outputs": [],
   "source": [
    "%matplotlib inline\n",
    "import matplotlib.pyplot as plt\n",
    "plt.style.use('ggplot')\n",
    "plt.rcParams['figure.figsize'] = 12, 8"
   ]
  },
  {
   "cell_type": "markdown",
   "metadata": {},
   "source": [
    "---\n",
    "\n",
    "# A) Python Crash Course\n",
    "\n",
    "This course is fairly non-interactive and just serves to get you up to speed. Nonetheless feel free to play around.\n",
    "\n",
    "Most Important:\n",
    " - on previously assigned variables (after the cell was executed), use tab completion for introspection!"
   ]
  },
  {
   "cell_type": "code",
   "execution_count": null,
   "metadata": {},
   "outputs": [],
   "source": [
    "x = \"Hello World!\""
   ]
  },
  {
   "cell_type": "code",
   "execution_count": null,
   "metadata": {},
   "outputs": [],
   "source": [
    "# Remove the # and try Tab completion after typing \"x.\"\n",
    "#x."
   ]
  },
  {
   "cell_type": "markdown",
   "metadata": {},
   "source": [
    " * use question mark for help on functions/methods"
   ]
  },
  {
   "cell_type": "code",
   "execution_count": null,
   "metadata": {},
   "outputs": [],
   "source": [
    "x.lower?"
   ]
  },
  {
   "cell_type": "markdown",
   "metadata": {},
   "source": [
    "### 1. Numbers\n",
    "\n",
    "Python is dynamically typed and assigning something to a variable will give it that type."
   ]
  },
  {
   "cell_type": "code",
   "execution_count": null,
   "metadata": {},
   "outputs": [],
   "source": [
    "# Three basic types of numbers\n",
    "a = 1             # Integers\n",
    "b = 2.0           # Floating Point Numbers\n",
    "c = 3.0 + 4j      # Complex Numbers\n",
    "\n",
    "# Arithmetics work more or less as expected\n",
    "d = a + b         # (int + float = float)\n",
    "e = c ** 2        # c to the second power2. Boolean values"
   ]
  },
  {
   "cell_type": "markdown",
   "metadata": {},
   "source": [
    "### 2. Boolean values"
   ]
  },
  {
   "cell_type": "code",
   "execution_count": null,
   "metadata": {},
   "outputs": [],
   "source": [
    "current_state = True\n",
    "next_state = not current_state\n",
    "print(next_state)\n",
    "\n",
    "print(b > 100)"
   ]
  },
  {
   "cell_type": "markdown",
   "metadata": {},
   "source": [
    "### 3. Strings"
   ]
  },
  {
   "cell_type": "code",
   "execution_count": null,
   "metadata": {},
   "outputs": [],
   "source": [
    "# You can use single or double quotes to create strings.\n",
    "location = \"Munich\"\n",
    "\n",
    "# Concatenate strings with plus.\n",
    "where_am_i = \"I am in \" + location\n",
    "\n",
    "# Print things with the print() function.\n",
    "print(location)\n",
    "print(where_am_i)\n",
    "\n",
    "# In Python everything is an object..\n",
    "# Strings have a lot of attached methods for common manipulations.\n",
    "print(location.upper())\n",
    "\n",
    "# Access single items with square bracket. Negative indices are from the back.\n",
    "print(location[0], location[-1])"
   ]
  },
  {
   "cell_type": "code",
   "execution_count": null,
   "metadata": {},
   "outputs": [],
   "source": [
    "# Formatting strings can be done using the f-string notation\n",
    "for num in range(3):\n",
    "    # various options for formatting in placeholders:\n",
    "    # https://docs.python.org/3/reference/lexical_analysis.html#f-strings\n",
    "    print(f'The current value is {num}')\n",
    "    print(f'The current value is {str(num)}')\n",
    "    print(f'The current value is {num:05d}')\n",
    "    print(f'The current value is {num!s}')\n",
    "    print('----')\n",
    "\n",
    "# or using .format() method\n",
    "# https://docs.python.org/3/library/stdtypes.html#str.format\n",
    "template = \"Current value: {}\"\n",
    "print(template.format(num))\n",
    "\n",
    "# or the old % notation (avoid it in the future)\n",
    "template = \"Current value: %s\"\n",
    "print(template % num)"
   ]
  },
  {
   "cell_type": "markdown",
   "metadata": {},
   "source": [
    "### 4. Lists"
   ]
  },
  {
   "cell_type": "code",
   "execution_count": null,
   "metadata": {},
   "outputs": [],
   "source": [
    "# Lists use square brackets and are simple ordered collections of items (of arbitrary type).\n",
    "everything = [a, c, location, 1, 2, 3, \"hello\"]\n",
    "print(everything)\n",
    "\n",
    "# Access elements with the same slicing/indexing notation as strings.\n",
    "# Note that Python indices are zero based!\n",
    "print(everything[0])\n",
    "print(everything[:3])\n",
    "print(everything[2:-2])\n",
    "print(everything[-3:])\n",
    "\n",
    "# Append things with the append method.\n",
    "# (Other helper methods are available for lists as well)\n",
    "everything.append(\"you\")\n",
    "print(everything)\n",
    "\n",
    "# try tab completion!\n",
    "# everything."
   ]
  },
  {
   "cell_type": "markdown",
   "metadata": {},
   "source": [
    "### 5. Dictionaries"
   ]
  },
  {
   "cell_type": "code",
   "execution_count": null,
   "metadata": {},
   "outputs": [],
   "source": [
    "# Dictionaries have named fields and no inherent order. As is\n",
    "# the case with lists, they can contain items of any type.\n",
    "information = {\n",
    "    \"name\": \"Hans\",\n",
    "    \"surname\": \"Mustermann\",\n",
    "    \"age\": 48,\n",
    "    \"kids\": [\"Thomas\", \"Sabine\"]\n",
    "}\n",
    "\n",
    "# Acccess items by using the key in square brackets.\n",
    "print(information[\"kids\"])\n",
    "\n",
    "# Add new things by just assigning to a key.\n",
    "print(information)\n",
    "information[\"music\"] = \"jazz\"\n",
    "print(information)"
   ]
  },
  {
   "cell_type": "markdown",
   "metadata": {},
   "source": [
    "### 6. Functions"
   ]
  },
  {
   "cell_type": "code",
   "execution_count": null,
   "metadata": {},
   "outputs": [],
   "source": [
    "# Functions are defined using the \"def\" keyword.\n",
    "# The body of the function is the indented block following the\n",
    "# call syntax definition and usually ends with a \"return\" statement.\n",
    "def do_stuff(a, b):\n",
    "    return a * b\n",
    "\n",
    "# Functions calls are denoted by round brackets.\n",
    "print(do_stuff(2, 3))"
   ]
  },
  {
   "cell_type": "code",
   "execution_count": null,
   "metadata": {},
   "outputs": [],
   "source": [
    "# Arguments to functions can have a default value,\n",
    "# and are then called \"keyword arguments\" or short: \"kwarg\"\n",
    "def traveltime(distance, speed=80.0):\n",
    "    return distance / speed\n",
    "\n",
    "# If not specified otherwise, the default value is used..\n",
    "print(traveltime(1000))\n",
    "\n",
    "# kwargs can be specified by position or explicitly by name\n",
    "print(traveltime(1000, 80.0))\n",
    "print(traveltime(speed=80.0, distance=1000))"
   ]
  },
  {
   "cell_type": "markdown",
   "metadata": {},
   "source": [
    "### 7. Imports\n",
    "\n",
    "To use functions and objects not part of the default namespace, you have to import them. You will have to do this a lot so its worth to learn how to do it."
   ]
  },
  {
   "cell_type": "code",
   "execution_count": null,
   "metadata": {},
   "outputs": [],
   "source": [
    "# Import the math module, and use it's contents with the dot accessor.\n",
    "import math\n",
    "\n",
    "a = math.cos(4 * math.pi)\n",
    "\n",
    "# You can also selectively import specific things.\n",
    "from math import pi\n",
    "\n",
    "b = 2.0 * pi\n",
    "\n",
    "# And even rename them if you don't like their name.\n",
    "from math import cos as cosine\n",
    "c = cosine(b)\n",
    "print(c)\n",
    "\n",
    "import numpy as np\n",
    "\n",
    "# But beware.. no wildcard imports (e.g. \"from math import *\") please!\n",
    "# Also, try not to import too much into the main namespace, things can get unclear.."
   ]
  },
  {
   "cell_type": "markdown",
   "metadata": {},
   "source": [
    "### 8. Control Flow\n",
    "\n",
    "Loops and conditionals are needed for any non-trivial task. Please note that **whitespace matters in Python**. Everything that is indented at the same level is part of the same block!\n",
    "\n",
    "Please adhere to the official Python best practice ([PEP 8](https://www.python.org/dev/peps/pep-0008/))! This makes everybody's life so much easier when passing code around colleagues or developing software together..\n",
    "  * no tabs!\n",
    "  * 4 spaces per indentation level"
   ]
  },
  {
   "cell_type": "code",
   "execution_count": null,
   "metadata": {},
   "outputs": [],
   "source": [
    "temp = [\"a\", \"b\", \"c\"]\n",
    "\n",
    "# The typical Python loop is a for-each loop, e.g.\n",
    "for item in temp:\n",
    "    print(item)\n",
    "    print(item)\n",
    "    print(item)\n",
    "print(item)"
   ]
  },
  {
   "cell_type": "code",
   "execution_count": null,
   "metadata": {},
   "outputs": [],
   "source": [
    "# Useful to know is the range() function.\n",
    "for i in range(5):\n",
    "    print(i)"
   ]
  },
  {
   "cell_type": "code",
   "execution_count": null,
   "metadata": {},
   "outputs": [],
   "source": [
    "# But make sure to avoid C-style loops whenever possible,\n",
    "# they are ugly and make the code so much more harder to read\n",
    "for i in range(len(temp)):\n",
    "    print(temp[i])\n",
    "\n",
    "for item in temp:\n",
    "    print(item)"
   ]
  },
  {
   "cell_type": "code",
   "execution_count": null,
   "metadata": {},
   "outputs": [],
   "source": [
    "# If/else works as expected.\n",
    "age = 77\n",
    "\n",
    "if age >= 0 and age < 10:\n",
    "    print(\"Younger than ten.\")\n",
    "elif age >= 10:\n",
    "    print(\"Older than ten.\")\n",
    "# this would evaluate True but is not executed anymore:\n",
    "elif age >= 20:\n",
    "    print(\"Older than twenty.\")\n",
    "else:\n",
    "    print(\"wait.. what??\")"
   ]
  },
  {
   "cell_type": "code",
   "execution_count": null,
   "metadata": {},
   "outputs": [],
   "source": [
    "# so called List comprehensions are a nice way to write compact loops.\n",
    "\n",
    "a = list(range(10))\n",
    "print(a)\n",
    "b = [i ** 2 for i in a]\n",
    "print(b)\n",
    "\n",
    "# Equivalent for-loop to generate b.\n",
    "b = []\n",
    "for i in a:\n",
    "    b.append(i ** 2)\n",
    "print(b)"
   ]
  },
  {
   "cell_type": "code",
   "execution_count": null,
   "metadata": {},
   "outputs": [],
   "source": [
    "# while-loops get executed over and over again,\n",
    "# as long as the condition evaluates to \"True\"..\n",
    "# Be careful with while loops.. you can run into endless loops\n",
    "# Got to menu bar \"Kernel\" -> \"Interrupt\" if you're stuck in an endless loop\n",
    "\n",
    "happy = False\n",
    "candies = 0\n",
    "print(candies)\n",
    "\n",
    "while not happy:\n",
    "    candies += 1\n",
    "    if candies >= 100:\n",
    "        happy = True\n",
    "\n",
    "print(candies)"
   ]
  },
  {
   "cell_type": "markdown",
   "metadata": {},
   "source": [
    "### 9. Exceptions\n",
    "\n",
    "In automated processing scripts, sometimes unexpected things happen at runtime and Python stops code execution by **raising an Exception** (think of it as an \"Error\"). Sometimes we want to continue the program, nevertheless, i.e. make the program **robust**."
   ]
  },
  {
   "cell_type": "code",
   "execution_count": null,
   "metadata": {},
   "outputs": [],
   "source": [
    "import math\n",
    "\n",
    "def calculate_result(number):\n",
    "    return math.sqrt(number) * 3 + 2"
   ]
  },
  {
   "cell_type": "code",
   "execution_count": null,
   "metadata": {},
   "outputs": [],
   "source": [
    "for x in [1, -3, 5]:\n",
    "    try:\n",
    "        print(calculate_result(x))\n",
    "    except:\n",
    "        print(f\"Warning: Failed to compute result! Input: {x}\")\n",
    "        continue"
   ]
  },
  {
   "cell_type": "markdown",
   "metadata": {},
   "source": [
    "But beware, just catching any type of Exception is bad practice and can mask errors in the code:"
   ]
  },
  {
   "cell_type": "code",
   "execution_count": null,
   "metadata": {
    "scrolled": true
   },
   "outputs": [],
   "source": [
    "for x in [1, -3, 5]:\n",
    "    try:\n",
    "        print(calculaet_result(x))\n",
    "    except:\n",
    "        print(f\"Warning: Failed to compute result! Input: {x}\")\n",
    "        continue"
   ]
  },
  {
   "cell_type": "markdown",
   "metadata": {},
   "source": [
    "Be specific when catching exceptions!"
   ]
  },
  {
   "cell_type": "code",
   "execution_count": null,
   "metadata": {},
   "outputs": [],
   "source": [
    "for x in [1, -3, 5, \"weird input\"]:\n",
    "    try:\n",
    "        print(calculaet_result(x))\n",
    "    except ValueError:\n",
    "        print(f\"Warning: Failed to compute result! Input: {x}\")\n",
    "        continue\n",
    "    except NameError:\n",
    "        print(f\"This should really not happen!\")\n",
    "        continue"
   ]
  },
  {
   "cell_type": "code",
   "execution_count": null,
   "metadata": {},
   "outputs": [],
   "source": [
    "for x in [1, -3, 5, \"weird input\"]:\n",
    "    try:\n",
    "        print(calculate_result(x))\n",
    "    except ValueError:\n",
    "        print(f\"Warning: Failed to compute result! Input: {x}\")\n",
    "        continue"
   ]
  },
  {
   "cell_type": "markdown",
   "metadata": {},
   "source": [
    "### 10. NumPy\n",
    "\n",
    "Large parts of the scientific Python ecosystem use NumPy. The heart of NumPy is the \"ndarray\" type (n-dimensional array, in our course usually 1-D arrays). Operations on NumPy arrays are both economical in memory use and computationally fast (internally computations are done in C)."
   ]
  },
  {
   "cell_type": "code",
   "execution_count": null,
   "metadata": {},
   "outputs": [],
   "source": [
    "import numpy as np\n",
    "\n",
    "# Create a large array with with 1 million samples, equally spaced from 0 to 100\n",
    "x = np.linspace(0, 100, 1000000)"
   ]
  },
  {
   "cell_type": "code",
   "execution_count": null,
   "metadata": {},
   "outputs": [],
   "source": [
    "%%timeit -n 3 -r 3\n",
    "\n",
    "# Most operations work per-element.\n",
    "y = x ** 2\n",
    "\n",
    "# Uses C and Fortran under the hood for speed.\n",
    "print(y.sum())"
   ]
  },
  {
   "cell_type": "code",
   "execution_count": null,
   "metadata": {},
   "outputs": [],
   "source": [
    "%%timeit -n 3 -r 3\n",
    "# don't use loops when working on big data arrays!\n",
    "# (especially no nested loops over multiple arrays!!)\n",
    "result = 0\n",
    "for i in x:\n",
    "    y = i ** 2\n",
    "    result += y\n",
    "print(result)"
   ]
  },
  {
   "cell_type": "markdown",
   "metadata": {},
   "source": [
    "### 11. Plotting\n",
    "\n",
    "Plotting is (most often) done using matplotlib. It has an interface that essentially works like Matlab."
   ]
  },
  {
   "cell_type": "code",
   "execution_count": null,
   "metadata": {},
   "outputs": [],
   "source": [
    "import matplotlib.pylab as plt\n",
    "\n",
    "x = np.linspace(0, 2 * np.pi, 2000)\n",
    "y = np.sin(x)\n",
    "\n",
    "plt.plot(x, y, color=\"green\", label=\"sine wave\")\n",
    "plt.legend()\n",
    "plt.ylim(-1.1, 1.1)\n",
    "plt.show()"
   ]
  },
  {
   "cell_type": "markdown",
   "metadata": {},
   "source": [
    "## Exercises\n",
    "\n",
    "#### Functions, NumPy, and Matplotlib\n",
    "\n",
    "a) Write a function that takes a NumPy array `x` and three float values `a`, `b`, and `c` as arguments and returns\n",
    "\n",
    "$$\n",
    "f(x) = a x^2 + b x + c\n",
    "$$\n",
    "\n",
    "b) Use the function and plot its graph using matplotlib, for an arbitrary choice of parameters for x values between -3 and +3."
   ]
  },
  {
   "cell_type": "code",
   "execution_count": null,
   "metadata": {},
   "outputs": [],
   "source": []
  },
  {
   "cell_type": "markdown",
   "metadata": {},
   "source": [
    "#### 99 Bottles of Beer\n",
    "\n",
    "*(stolen from http://www.ling.gu.se/~lager/python_exercises.html)*\n",
    "\n",
    "\n",
    "\"99 Bottles of Beer\" is a traditional song in the United States and Canada. It is popular to sing on long trips, as it has a very repetitive format which is easy to memorize, and can take a long time to sing. The song's simple lyrics are as follows:\n",
    "\n",
    "```\n",
    "99 bottles of beer on the wall, 99 bottles of beer.\n",
    "Take one down, pass it around, 98 bottles of beer on the wall.\n",
    "```\n",
    "\n",
    "The same verse is repeated, each time with one fewer bottle. The song is completed when the singer or singers reach zero.\n",
    "\n",
    "Your task here is to write a Python program capable of generating all the verses of the song."
   ]
  },
  {
   "cell_type": "code",
   "execution_count": null,
   "metadata": {},
   "outputs": [],
   "source": []
  },
  {
   "cell_type": "markdown",
   "metadata": {},
   "source": [
    "#### Ceasar Cipher\n",
    "\n",
    "*(stolen from http://www.ling.gu.se/~lager/python_exercises.html)*\n",
    "\n",
    "In cryptography, a Caesar cipher is a very simple encryption techniques in which each letter in the plain text is replaced by a letter some fixed number of positions down the alphabet. For example, with a shift of 3, A would be replaced by D, B would become E, and so on. The method is named after Julius Caesar, who used it to communicate with his generals. ROT-13 (\"rotate by 13 places\") is a widely used example of a Caesar cipher where the shift is 13. In Python, the key for ROT-13 may be represented by means of the following dictionary:\n",
    "\n",
    "```python\n",
    "key = {'a':'n', 'b':'o', 'c':'p', 'd':'q', 'e':'r', 'f':'s', 'g':'t', 'h':'u', \n",
    "       'i':'v', 'j':'w', 'k':'x', 'l':'y', 'm':'z', 'n':'a', 'o':'b', 'p':'c', \n",
    "       'q':'d', 'r':'e', 's':'f', 't':'g', 'u':'h', 'v':'i', 'w':'j', 'x':'k',\n",
    "       'y':'l', 'z':'m', 'A':'N', 'B':'O', 'C':'P', 'D':'Q', 'E':'R', 'F':'S', \n",
    "       'G':'T', 'H':'U', 'I':'V', 'J':'W', 'K':'X', 'L':'Y', 'M':'Z', 'N':'A', \n",
    "       'O':'B', 'P':'C', 'Q':'D', 'R':'E', 'S':'F', 'T':'G', 'U':'H', 'V':'I', \n",
    "       'W':'J', 'X':'K', 'Y':'L', 'Z':'M'}\n",
    "```\n",
    "\n",
    "Your task in this exercise is to implement an decoder of ROT-13. Once you're done, you will be able to read the following secret message:\n",
    "\n",
    "```\n",
    "Pnrfne pvcure? V zhpu cersre Pnrfne fnynq!\n",
    "```\n",
    "\n",
    "**BONUS:** Write an encoder!"
   ]
  },
  {
   "cell_type": "code",
   "execution_count": null,
   "metadata": {},
   "outputs": [],
   "source": [
    "key = {'a':'n', 'b':'o', 'c':'p', 'd':'q', 'e':'r', 'f':'s', 'g':'t', 'h':'u', \n",
    "       'i':'v', 'j':'w', 'k':'x', 'l':'y', 'm':'z', 'n':'a', 'o':'b', 'p':'c', \n",
    "       'q':'d', 'r':'e', 's':'f', 't':'g', 'u':'h', 'v':'i', 'w':'j', 'x':'k',\n",
    "       'y':'l', 'z':'m', 'A':'N', 'B':'O', 'C':'P', 'D':'Q', 'E':'R', 'F':'S', \n",
    "       'G':'T', 'H':'U', 'I':'V', 'J':'W', 'K':'X', 'L':'Y', 'M':'Z', 'N':'A', \n",
    "       'O':'B', 'P':'C', 'Q':'D', 'R':'E', 'S':'F', 'T':'G', 'U':'H', 'V':'I', \n",
    "       'W':'J', 'X':'K', 'Y':'L', 'Z':'M'}\n",
    "\n",
    "message = \"Pnrfne pvcure? V zhpu cersre Pnrfne fnynq!\"\n",
    "\n",
    "def decode(some_string):\n",
    "    # your code here...\n",
    "    return out\n",
    "\n",
    "print(decode(message))"
   ]
  },
  {
   "cell_type": "code",
   "execution_count": null,
   "metadata": {},
   "outputs": [],
   "source": []
  }
 ],
 "metadata": {
  "kernelspec": {
   "display_name": "Python 3",
   "language": "python",
   "name": "python3"
  },
  "language_info": {
   "codemirror_mode": {
    "name": "ipython",
    "version": 3
   },
   "file_extension": ".py",
   "mimetype": "text/x-python",
   "name": "python",
   "nbconvert_exporter": "python",
   "pygments_lexer": "ipython3",
   "version": "3.6.3"
  }
 },
 "nbformat": 4,
 "nbformat_minor": 1
}
