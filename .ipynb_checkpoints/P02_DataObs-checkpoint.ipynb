{
 "cells": [
  {
   "cell_type": "markdown",
   "metadata": {},
   "source": [
    "<div style=\"background-color:#009440; padding: 0px; background-size:cover; background-opacity:50%; border-radius:5px; height: 300px\">\n",
    "    <div style=\"margin: 5px; padding: 10px;\"><h1 style=\"color:#00000\">Geophysical Data Acquisition and Analysis</h1>\n",
    "    <h4 style=\"color:#dddddd\">LMU, July 2023</h4>\n",
    "        <h4 style=\"color:#dddddd\">Author: Alice Gabriel, Joachim Wassermann</h4>\n",
    "    </div>\n",
    "    <div style=\"float:right; margin: 10px; padding: 20px; background:rgba(255,255,255,0.7); width: 70%; height: 150px\">\n",
    "        <div style=\"position:relative; top:30%; transform: translateY(-50%)\">\n",
    "            <div style=\"font-size: x-large; font-weight:900; color:rgba(0,0,0,0.8); line-height:100%\">P02 - Data and Observables </div>\n",
    "                    </div>\n",
    "    </div>\n",
    "</div>\n",
    "\n"
   ]
  },
  {
   "cell_type": "markdown",
   "metadata": {},
   "source": [
    "This notebook is designed for 2-3 students to collaborate in finding information/data as requested. \n",
    "Use the descriptions of data centre resources in the lecture (especially the provided links to webinterfaces). You may also test your newly acquired obspy skills.\n",
    "\n",
    "Your answers should include the follwoing aspects: “What kind of data, where do I find it, how do I get it”"
   ]
  },
  {
   "cell_type": "markdown",
   "metadata": {},
   "source": [
    "## 1) Earthquake data and teleseismic waveforms"
   ]
  },
  {
   "cell_type": "markdown",
   "metadata": {},
   "source": [
    "There was a large shallow Mw 7.8 event in Turkey in February 2023. You want to explore the differences in arrival times of a station close-by and a far station.\n",
    "\n",
    "a. What do you need to find out first to be able to look for data?\n",
    "\n",
    "b. Get the data of some phases of a close-by (e.g. < 10°) and a far station (e.g. ~60°). What are the station names you are choosing as good examples? What are the differences in arrival times for those stations? Can you try and explain them?\n",
    "\n",
    "Hint: You may use one of the following datacenters (or its equivalents) : USGS (or EMSC) significant EQ archive, IRIS or EIDA metadata aggregator. \n",
    "\n",
    "Type your answers (what kind of data, where found, how did you get it plus the atual data you choose and the outcome of your analysis) below."
   ]
  },
  {
   "cell_type": "code",
   "execution_count": null,
   "metadata": {},
   "outputs": [],
   "source": []
  },
  {
   "cell_type": "markdown",
   "metadata": {},
   "source": [
    "## 2) CMT solutions (beach balls)"
   ]
  },
  {
   "cell_type": "markdown",
   "metadata": {},
   "source": [
    "List the events with magnitude > 6.5 that happened since 01.01.2015, with a depth greater than 500 km. \n",
    "What do the moment tensors/beachballs of these events dominantly look like? Can you explain why? Where would you look for a different type of moment tensor?\n",
    "\n",
    "Hint: You may use the GCMT catalog webinterface. Or try your newly acquire obspy skills. \n",
    "\n",
    "Type your answers (or the script you would use) below. Include what kind of data, where found, how did you get it plus the atual data you choose and the outcome of your analysis."
   ]
  },
  {
   "cell_type": "code",
   "execution_count": null,
   "metadata": {},
   "outputs": [],
   "source": []
  },
  {
   "cell_type": "markdown",
   "metadata": {},
   "source": [
    "## 3) Seismotectonics"
   ]
  },
  {
   "cell_type": "markdown",
   "metadata": {},
   "source": [
    "You think about planning a new seismotectonic project in Mongolia based on earthquake analysis and earthquake mechanisms. What seismic stations are available, and are the data publically available?\n",
    "    \n",
    "Hint: Use the IRIS metadata aggregator to find out if there is a national station network and if the data is available. Then use th GCMT catalogue to explore if the moment tensors are available.\n",
    "\n",
    "Type your answers below. Include what kind of data, where found, how did you get it plus the actual data you choose and the outcome of your analysis. For this question, please also note if the data is openly available or partially/fully restricted."
   ]
  },
  {
   "cell_type": "code",
   "execution_count": null,
   "metadata": {},
   "outputs": [],
   "source": []
  },
  {
   "cell_type": "markdown",
   "metadata": {},
   "source": [
    "## 4) Magnetic data"
   ]
  },
  {
   "cell_type": "markdown",
   "metadata": {},
   "source": [
    "You want to have a look on the magnetic field variations on 24.04.2016 at the station in Fürstenfeldbruck. Get the data. \n",
    "\n",
    "Hint: Use the intermagnet website."
   ]
  },
  {
   "cell_type": "code",
   "execution_count": null,
   "metadata": {},
   "outputs": [],
   "source": []
  }
 ],
 "metadata": {
  "kernelspec": {
   "display_name": "Python 3 (ipykernel)",
   "language": "python",
   "name": "python3"
  },
  "language_info": {
   "codemirror_mode": {
    "name": "ipython",
    "version": 3
   },
   "file_extension": ".py",
   "mimetype": "text/x-python",
   "name": "python",
   "nbconvert_exporter": "python",
   "pygments_lexer": "ipython3",
   "version": "3.11.9"
  }
 },
 "nbformat": 4,
 "nbformat_minor": 4
}
