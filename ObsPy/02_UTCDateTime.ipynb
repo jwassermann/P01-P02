{
 "cells": [
  {
   "cell_type": "markdown",
   "metadata": {},
   "source": [
    "<div style='background-image: url(\"../share/images/header.svg\") ; padding: 0px ; background-size: cover ; border-radius: 5px ; height: 250px'>\n",
    "    <div style=\"float: right ; margin: 50px ; padding: 20px ; background: rgba(255 , 255 , 255 , 0.7) ; width: 50% ; height: 150px\">\n",
    "        <div style=\"position: relative ; top: 50% ; transform: translatey(-50%)\">\n",
    "            <div style=\"font-size: xx-large ; font-weight: 900 ; color: rgba(0 , 0 , 0 , 0.8) ; line-height: 100%\">ObsPy Tutorial</div>\n",
    "            <div style=\"font-size: large ; padding-top: 20px ; color: rgba(0 , 0 , 0 , 0.5)\">Handling Time</div>\n",
    "        </div>\n",
    "    </div>\n",
    "</div>"
   ]
  },
  {
   "cell_type": "markdown",
   "metadata": {},
   "source": [
    "Seismo-Live: http://seismo-live.org\n",
    "\n",
    "##### Authors:\n",
    "* Lion Krischer ([@krischer](https://github.com/krischer))\n",
    "* Tobias Megies ([@megies](https://github.com/megies))\n",
    "---"
   ]
  },
  {
   "cell_type": "markdown",
   "metadata": {},
   "source": [
    "![](images/obspy_logo_full_524x179px.png)"
   ]
  },
  {
   "cell_type": "markdown",
   "metadata": {},
   "source": [
    "This is a bit dry but not very difficult and important to know. It is used everywhere in ObsPy!\n",
    "\n",
    "\n",
    "* All absolute time values are consistently handled with this class\n",
    "* Based on a double precision POSIX timestamp for accuracy\n",
    "* Timezone can be specified at initialization (if necessary)\n",
    "* In Coordinated Universal Time (UTC) so no need to deal with timezones, daylight savings, ...\n",
    "\n",
    "---"
   ]
  },
  {
   "cell_type": "code",
   "execution_count": 1,
   "metadata": {},
   "outputs": [],
   "source": [
    "%matplotlib inline\n",
    "#from __future__ import print_function\n",
    "import matplotlib.pyplot as plt\n",
    "plt.style.use('ggplot')\n",
    "plt.rcParams['figure.figsize'] = 12, 8"
   ]
  },
  {
   "cell_type": "markdown",
   "metadata": {},
   "source": [
    "---\n",
    "\n",
    "## Features of **`UTCDateTime`**\n",
    "\n",
    "#### Initialization"
   ]
  },
  {
   "cell_type": "code",
   "execution_count": 2,
   "metadata": {},
   "outputs": [
    {
     "name": "stdout",
     "output_type": "stream",
     "text": [
      "2011-03-11T05:46:23.200000Z\n",
      "2011-03-11T05:46:23.200000Z\n",
      "2011-03-11T05:46:23.200000Z\n",
      "2011-03-11T05:46:23.200000Z\n"
     ]
    }
   ],
   "source": [
    "from obspy import UTCDateTime\n",
    "\n",
    "print(UTCDateTime(\"2011-03-11T05:46:23.2\"))        # mostly time strings defined by ISO standard\n",
    "print(UTCDateTime(\"2011-03-11T14:46:23.2+09:00\"))  # non-UTC timezone input\n",
    "print(UTCDateTime(2011,3, 11, 5, 46, 23, 200000))\n",
    "print(UTCDateTime(1299822383.2))"
   ]
  },
  {
   "cell_type": "code",
   "execution_count": 3,
   "metadata": {},
   "outputs": [
    {
     "name": "stdout",
     "output_type": "stream",
     "text": [
      "2023-07-24T12:12:57.364305Z\n"
     ]
    }
   ],
   "source": [
    "# Current time can be initialized by leaving out any arguments\n",
    "print(UTCDateTime())\n"
   ]
  },
  {
   "cell_type": "markdown",
   "metadata": {},
   "source": [
    "#### Attribute Access"
   ]
  },
  {
   "cell_type": "code",
   "execution_count": 5,
   "metadata": {},
   "outputs": [
    {
     "name": "stdout",
     "output_type": "stream",
     "text": [
      "2023\n",
      "205\n",
      "1690200819.814655\n",
      "0\n",
      "2023-07-24T12:13:39.814655Z\n",
      "814655\n",
      "24\n",
      "7\n"
     ]
    }
   ],
   "source": [
    "#time = UTCDateTime(\"2011-03-11T05:46:23.200000Z\")\n",
    "time = UTCDateTime()\n",
    "\n",
    "print(time.year)\n",
    "print(time.julday)\n",
    "print(time.timestamp)\n",
    "print(time.weekday)\n",
    "# try time.<Tab>\n",
    "print(time)\n",
    "print(time.microsecond)\n",
    "print(time.day)\n",
    "print(time.month)"
   ]
  },
  {
   "cell_type": "markdown",
   "metadata": {},
   "source": [
    "#### Handling time differences\n",
    "\n",
    "* \"**`+`**/**`-`**\" defined to add seconds to an **`UTCDateTime`** object\n",
    "* \"**`-`**\" defined to get time difference of two **`UTCDateTime`** objects"
   ]
  },
  {
   "cell_type": "code",
   "execution_count": 6,
   "metadata": {},
   "outputs": [
    {
     "name": "stdout",
     "output_type": "stream",
     "text": [
      "2011-03-11T05:46:23.200000Z\n"
     ]
    }
   ],
   "source": [
    "time = UTCDateTime(\"2011-03-11T05:46:23.200000Z\")\n",
    "print(time)"
   ]
  },
  {
   "cell_type": "code",
   "execution_count": 7,
   "metadata": {},
   "outputs": [
    {
     "name": "stdout",
     "output_type": "stream",
     "text": [
      "2011-03-11T06:46:23.200000Z\n"
     ]
    }
   ],
   "source": [
    "# one hour later\n",
    "print(time + 1*3600)"
   ]
  },
  {
   "cell_type": "code",
   "execution_count": 8,
   "metadata": {},
   "outputs": [
    {
     "name": "stdout",
     "output_type": "stream",
     "text": [
      "295\n"
     ]
    }
   ],
   "source": [
    "time2 = UTCDateTime(2012, 1, 1)\n",
    "print(int((time2 - time)/(24*3600)))"
   ]
  },
  {
   "cell_type": "markdown",
   "metadata": {},
   "source": [
    "### Exercises\n",
    "\n",
    "Calculate the number of days passed since the Tohoku main shock (the timestamp used above)."
   ]
  },
  {
   "cell_type": "code",
   "execution_count": 10,
   "metadata": {},
   "outputs": [
    {
     "name": "stdout",
     "output_type": "stream",
     "text": [
      "12.378082191780821\n"
     ]
    }
   ],
   "source": [
    "time_now = UTCDateTime()\n",
    "diff = (time_now - time)/(24*3600)\n",
    "print(int(diff)/365)"
   ]
  },
  {
   "cell_type": "markdown",
   "metadata": {},
   "source": [
    "Make a list of 10 UTCDateTime objects, starting today at 10:00 with a spacing of 90 minutes."
   ]
  },
  {
   "cell_type": "code",
   "execution_count": 11,
   "metadata": {},
   "outputs": [
    {
     "name": "stdout",
     "output_type": "stream",
     "text": [
      "[UTCDateTime(2023, 7, 24, 10, 0), UTCDateTime(2023, 7, 24, 11, 30), UTCDateTime(2023, 7, 24, 13, 0), UTCDateTime(2023, 7, 24, 14, 30), UTCDateTime(2023, 7, 24, 16, 0), UTCDateTime(2023, 7, 24, 17, 30), UTCDateTime(2023, 7, 24, 19, 0), UTCDateTime(2023, 7, 24, 20, 30), UTCDateTime(2023, 7, 24, 22, 0), UTCDateTime(2023, 7, 24, 23, 30)]\n"
     ]
    }
   ],
   "source": [
    "time_l = []\n",
    "tt = UTCDateTime(time_now.year,time_now.month,time_now.day,10)\n",
    "for i in range(10):\n",
    "    time_l.append(tt+i*90*60)\n",
    "print(time_l)"
   ]
  },
  {
   "cell_type": "markdown",
   "metadata": {},
   "source": [
    "Below is a list of strings with origin times of magnitude 8+ earthquakes since 2000 (fetched from IRIS). Assemble a list of interevent times in days. Use matplotlib to display a histogram."
   ]
  },
  {
   "cell_type": "code",
   "execution_count": null,
   "metadata": {},
   "outputs": [],
   "source": [
    "times = [\"2001-06-23T20:33:09\",\n",
    "         \"2003-09-25T19:50:07\",\n",
    "         \"2004-12-23T14:59:00\",\n",
    "         \"2004-12-26T00:58:52\",\n",
    "         \"2005-03-28T16:09:35\",\n",
    "         \"2006-06-01T18:57:02\",\n",
    "         \"2006-06-05T00:50:31\",\n",
    "         \"2006-11-15T11:14:14\",\n",
    "         \"2007-01-13T04:23:23\",\n",
    "         \"2007-04-01T20:39:56\",\n",
    "         \"2007-08-15T23:40:58\",\n",
    "         \"2007-09-12T11:10:26\",\n",
    "         \"2009-09-29T17:48:11\",\n",
    "         \"2010-02-27T06:34:13\",\n",
    "         \"2011-03-11T05:46:23\",\n",
    "         \"2012-04-11T08:38:36\",\n",
    "         \"2012-04-11T10:43:10\",\n",
    "         \"2013-05-24T05:44:48\"]"
   ]
  },
  {
   "cell_type": "code",
   "execution_count": null,
   "metadata": {},
   "outputs": [],
   "source": []
  }
 ],
 "metadata": {
  "kernelspec": {
   "display_name": "Python 3 (ipykernel)",
   "language": "python",
   "name": "python3"
  },
  "language_info": {
   "codemirror_mode": {
    "name": "ipython",
    "version": 3
   },
   "file_extension": ".py",
   "mimetype": "text/x-python",
   "name": "python",
   "nbconvert_exporter": "python",
   "pygments_lexer": "ipython3",
   "version": "3.11.3"
  }
 },
 "nbformat": 4,
 "nbformat_minor": 1
}
